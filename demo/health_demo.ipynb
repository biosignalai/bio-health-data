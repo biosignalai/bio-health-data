{
 "cells": [
  {
   "cell_type": "code",
   "execution_count": null,
   "metadata": {},
   "outputs": [],
   "source": [
    "import json, pandas as pd, matplotlib.pyplot as plt, os\n",
    "from pathlib import Path\n",
    "\n",
    "# Demo input (synthetic data provided)\n",
    "INPUT_JSON = \"demo/example_health_export.json\"\n",
    "\n",
    "with open(INPUT_JSON) as f:\n",
    "    raw = json.load(f)\n",
    "\n",
    "# Normalize synthetic JSON\n",
    "tidy = pd.DataFrame(raw)\n",
    "tidy['_time'] = pd.to_datetime(tidy['_time'])\n",
    "print(tidy.head())\n",
    "\n",
    "# Quick plots\n",
    "for metric in tidy['_metric'].unique():\n",
    "    subset = tidy[tidy['_metric'] == metric]\n",
    "    subset.plot(x='_time', y='value', title=metric)\n",
    "    plt.show()"
   ]
  }
 ],
 "metadata": {
  "kernelspec": {
   "display_name": "Python 3",
   "language": "python",
   "name": "python3"
  },
  "language_info": {
   "name": "python"
  }
 },
 "nbformat": 4,
 "nbformat_minor": 5
}
